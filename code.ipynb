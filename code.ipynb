{
 "cells": [
  {
   "cell_type": "markdown",
   "id": "eafebbd9",
   "metadata": {
    "deletable": false,
    "editable": false,
    "nbgrader": {
     "cell_type": "markdown",
     "checksum": "33830a985b9da4468f8cfe437642d7d4",
     "grade": false,
     "grade_id": "cell-ba6573cd54a20a32",
     "locked": true,
     "schema_version": 3,
     "solution": false,
     "task": false
    }
   },
   "source": [
    "# Binary Operations"
   ]
  },
  {
   "cell_type": "code",
   "execution_count": 1,
   "id": "44f06b56",
   "metadata": {
    "ExecuteTime": {
     "end_time": "2023-03-30T10:46:39.882694Z",
     "start_time": "2023-03-30T10:46:39.868120Z"
    }
   },
   "outputs": [],
   "source": [
    "X = [[0, 1, 0], [0, 0, 0], [0, 1, 1]]"
   ]
  },
  {
   "cell_type": "code",
   "execution_count": 2,
   "id": "a94d7120",
   "metadata": {
    "ExecuteTime": {
     "end_time": "2023-03-30T10:46:39.919782Z",
     "start_time": "2023-03-30T10:46:39.886580Z"
    }
   },
   "outputs": [
    {
     "data": {
      "text/plain": [
       "1"
      ]
     },
     "execution_count": 2,
     "metadata": {},
     "output_type": "execute_result"
    }
   ],
   "source": [
    "# The product of 0 and 1, using the binary operation X, is 1\n",
    "X[0][1]"
   ]
  },
  {
   "cell_type": "code",
   "execution_count": 3,
   "id": "70330ff2",
   "metadata": {
    "ExecuteTime": {
     "end_time": "2023-03-30T10:46:39.938530Z",
     "start_time": "2023-03-30T10:46:39.922930Z"
    }
   },
   "outputs": [
    {
     "data": {
      "text/plain": [
       "0"
      ]
     },
     "execution_count": 3,
     "metadata": {},
     "output_type": "execute_result"
    }
   ],
   "source": [
    "# The product of 1 and 2 under X is 0\n",
    "X[1][2]"
   ]
  },
  {
   "cell_type": "markdown",
   "id": "b375b2d6",
   "metadata": {},
   "source": [
    "`validate_binary_operation(X)` returns `True` if `X` is a valid binary operation, and raises an appropriate `TypeError` or `ValueError` otherwise."
   ]
  },
  {
   "cell_type": "code",
   "execution_count": 4,
   "id": "a849f9ae",
   "metadata": {
    "ExecuteTime": {
     "end_time": "2023-03-30T10:52:43.667234Z",
     "start_time": "2023-03-30T10:52:43.655821Z"
    },
    "nbgrader": {
     "cell_type": "code",
     "checksum": "98eeb1aa967200611bfb7c36f4c3ec2d",
     "grade": false,
     "grade_id": "Q1-answer",
     "locked": false,
     "schema_version": 3,
     "solution": true,
     "task": false
    }
   },
   "outputs": [],
   "source": [
    "def validate_binary_operation(X):\n",
    "    # Binary operations must be lists:\n",
    "    if not isinstance(X, list):\n",
    "        raise TypeError(f\"binary operations should be lists, but got a {type(X).__name__}\")\n",
    "\n",
    "    # Binary operations must have positive length:\n",
    "    if not len(X) > 0:\n",
    "        raise ValueError(\"binary operations should be positive-length, but got a list of length 0\")\n",
    "\n",
    "    for row in X:\n",
    "        # Each entry of a binary operation must be a list:\n",
    "        if not isinstance(row, list):\n",
    "            raise TypeError(\"binary operations should be lists of lists, \"\n",
    "                            + f\"but got a list containing a {type(X).__name__}\")\n",
    "    \n",
    "    # Each row must be of length n\n",
    "    for row in X:\n",
    "        if not len(row) == len(X):\n",
    "            raise ValueError(f\"binary operations should have the length of its rows equal to the number of rows, {len(X)}, \"\n",
    "                           + f'but got the row {row} of length {len(row)}')\n",
    "    \n",
    "    # Creates the set {0,1,...,n-1}\n",
    "    validset=[]\n",
    "    for i in range(len(X)):\n",
    "        validset.append(i)\n",
    "\n",
    "    # Binary operations must be defined on {0,1,...,n-1}\n",
    "    for row in X:\n",
    "        for x in row:\n",
    "            # Each element in each row must be an integer\n",
    "            if not isinstance(x, int):\n",
    "                raise TypeError('each element in each row should be an integer, '\n",
    "                                + f'but got a row containing a {type(x).__name__}')\n",
    "        \n",
    "        for x in row:\n",
    "            # Each element in each row must be from the set {0,1,...,n-1}\n",
    "            if x not in validset:\n",
    "                raise ValueError('each element in each row should be an integer from the set {0,...,' + f'{len(X)-1}' + '} '\n",
    "                                + f'but row {row} a contains a {x}')\n",
    "    return True"
   ]
  },
  {
   "cell_type": "markdown",
   "id": "282ad7cb",
   "metadata": {
    "deletable": false,
    "editable": false,
    "nbgrader": {
     "cell_type": "markdown",
     "checksum": "e2e7aceb550b6400b4f5dc7ba6340f5a",
     "grade": false,
     "grade_id": "Q2-task",
     "locked": true,
     "points": 0,
     "schema_version": 3,
     "solution": false,
     "task": true
    }
   },
   "source": [
    "`is_associative` takes a binary operation (as defined above) `X` and returns `True` if the operation is associative, and `False` if not."
   ]
  },
  {
   "cell_type": "code",
   "execution_count": 5,
   "id": "33574964",
   "metadata": {
    "ExecuteTime": {
     "end_time": "2023-03-30T10:52:48.796170Z",
     "start_time": "2023-03-30T10:52:48.789492Z"
    },
    "nbgrader": {
     "cell_type": "code",
     "checksum": "ecb62d07b2277e4d21469916461281ce",
     "grade": false,
     "grade_id": "Q2-answer",
     "locked": false,
     "schema_version": 3,
     "solution": true,
     "task": false
    }
   },
   "outputs": [],
   "source": [
    "def is_associative(X):\n",
    "    validate_binary_operation(X)\n",
    "    for i in range(len(X)):\n",
    "        for j in range(len(X)):\n",
    "            for k in range(len(X)):\n",
    "                if not X[i][X[j][k]] == X[X[i][j]][k]:\n",
    "                    return False\n",
    "    return True"
   ]
  },
  {
   "cell_type": "markdown",
   "id": "8be79562",
   "metadata": {},
   "source": [
    "`get_identity` takes a binary operation `X` and returns the identity of the binary operation, or `None` if there is no identity.\n",
    "\n",
    "`has_identity` takes a binary operation `X` and returns whether it has an identity using the function `get_identity`."
   ]
  },
  {
   "cell_type": "code",
   "execution_count": 6,
   "id": "28794a5c",
   "metadata": {
    "ExecuteTime": {
     "end_time": "2023-03-30T10:52:54.658171Z",
     "start_time": "2023-03-30T10:52:54.650902Z"
    },
    "nbgrader": {
     "cell_type": "code",
     "checksum": "dfc33244d24b91a7ccf509fef965767b",
     "grade": false,
     "grade_id": "Q3a-answer",
     "locked": false,
     "schema_version": 3,
     "solution": true,
     "task": false
    }
   },
   "outputs": [],
   "source": [
    "def get_identity(X):\n",
    "    validate_binary_operation(X)\n",
    "    for i in range(len(X)):\n",
    "        row = X[i]\n",
    "        column = []\n",
    "        for j in range(len(X)):\n",
    "            column.append(X[j][i])\n",
    "        if row == column == list(range(len(X))):\n",
    "            return i\n",
    "    return None\n",
    "\n",
    "def has_identity(X):\n",
    "    validate_binary_operation(X)\n",
    "    if get_identity(X) == None:\n",
    "        return False\n",
    "    else:\n",
    "        return True"
   ]
  },
  {
   "cell_type": "markdown",
   "id": "796d68f8",
   "metadata": {
    "deletable": false,
    "editable": false,
    "nbgrader": {
     "cell_type": "markdown",
     "checksum": "551ca5cb35a5e9269eca5d67a2e9152b",
     "grade": false,
     "grade_id": "Q4-task",
     "locked": true,
     "points": 0,
     "schema_version": 3,
     "solution": false,
     "task": true
    }
   },
   "source": [
    "`get_inverses(X, i)` takes a binary operation `X` on $\\{0, 1, \\ldots, n-1\\}$ and an element `i` in $\\{0, 1, \\ldots, n-1\\}$ and returns the inverse of `i` under `X` if `i` has an inverse, and `None` otherwise.\n",
    "\n",
    "`has_inverses` takes a binary operation `X` (on $\\{0, 1, \\ldots, n-1\\}$) and returns whether every $x \\in \\{0, \\ldots, n-1\\}$ has an inverse under `X`."
   ]
  },
  {
   "cell_type": "code",
   "execution_count": 7,
   "id": "0564dc03",
   "metadata": {
    "ExecuteTime": {
     "end_time": "2023-03-30T10:53:07.558865Z",
     "start_time": "2023-03-30T10:53:07.552845Z"
    },
    "nbgrader": {
     "cell_type": "code",
     "checksum": "a806cefc1723a3da48c68a9bae517db1",
     "grade": false,
     "grade_id": "cell-b7b9538d104c6d18",
     "locked": false,
     "schema_version": 3,
     "solution": true,
     "task": false
    }
   },
   "outputs": [],
   "source": [
    "def get_inverse(X, i):\n",
    "    validate_binary_operation(X)\n",
    "    e = get_identity(X)\n",
    "    for j in range(len(X)):\n",
    "        if X[i][j] == X[j][i] == e:\n",
    "            return j\n",
    "\n",
    "def has_inverses(X):\n",
    "    validate_binary_operation(X)\n",
    "    for i in range(len(X)):\n",
    "        if get_inverse(X,i) == None:\n",
    "            return False\n",
    "    return True"
   ]
  },
  {
   "cell_type": "markdown",
   "id": "f6cf08b6",
   "metadata": {},
   "source": [
    "`validate_group(X)` takes a binary operation `X` and returns `True` if `X` defines a group, and raises an appropriate `TypeError` otherwise."
   ]
  },
  {
   "cell_type": "code",
   "execution_count": 8,
   "id": "c307dbc8",
   "metadata": {
    "ExecuteTime": {
     "end_time": "2023-03-30T10:53:12.868227Z",
     "start_time": "2023-03-30T10:53:12.540737Z"
    },
    "nbgrader": {
     "cell_type": "code",
     "checksum": "43fa913a543fe15e0127bb7d60ea81e6",
     "grade": false,
     "grade_id": "Q5-answer",
     "locked": false,
     "schema_version": 3,
     "solution": true,
     "task": false
    }
   },
   "outputs": [],
   "source": [
    "def validate_group(X):\n",
    "    validate_binary_operation(X)\n",
    "    if is_associative(X) == False:\n",
    "        raise TypeError('The binary operation is not associative')\n",
    "    if has_identity(X) == False:\n",
    "        raise TypeError('The binary operation has no identity')\n",
    "    if has_inverses(X) == False:\n",
    "        raise TypeError('At least one element has no inverses')\n",
    "    return True"
   ]
  },
  {
   "cell_type": "markdown",
   "id": "a297c12e",
   "metadata": {
    "deletable": false,
    "editable": false,
    "nbgrader": {
     "cell_type": "markdown",
     "checksum": "fb789ab853609e7dfdcb0bac81961a5d",
     "grade": false,
     "grade_id": "cell-3084c89298064789",
     "locked": true,
     "schema_version": 3,
     "solution": false,
     "task": false
    }
   },
   "source": [
    "# Equivalence Relations"
   ]
  },
  {
   "cell_type": "markdown",
   "id": "319d11df",
   "metadata": {},
   "source": [
    "Note that as with the binary operations, we consider the underlying set to be $\\{0, 1, \\ldots, m\\}$."
   ]
  },
  {
   "cell_type": "markdown",
   "id": "a5c777f1",
   "metadata": {},
   "source": [
    "`is_reflexive_relation(rel,m)` takes a relation `rel` and `m`, and returns `True` if it is reflexive and `False` otherwise."
   ]
  },
  {
   "cell_type": "code",
   "execution_count": 9,
   "id": "c98df1bd",
   "metadata": {},
   "outputs": [],
   "source": [
    "def is_reflexive_relation(rel, m):\n",
    "    # Generates the set {0,1,...,m}\n",
    "    A = []\n",
    "    for i in range(m+1):\n",
    "        A.append(i)\n",
    "    \n",
    "    # We'll assume for the moment that rel is a binary relation, but let's check that it is over A.\n",
    "    # It's not clear whether we should raise an exception or return False if it isn't.\n",
    "    for (x, y) in rel:\n",
    "        if not (x in A and y in A):\n",
    "            return False\n",
    "    \n",
    "    for a in A:\n",
    "        if not (a, a) in rel:\n",
    "            return False\n",
    "    # If we reach this point in the function, we have checked each element of A\n",
    "    # and found that they all have (a, a) in rel, so rel is reflexive.\n",
    "    return True"
   ]
  },
  {
   "cell_type": "markdown",
   "id": "a0e09552",
   "metadata": {},
   "source": [
    "`is_symmetric_relation(rel)` takes a relation `rel` and returns `True` if it is symmetric and `False` otherwise."
   ]
  },
  {
   "cell_type": "code",
   "execution_count": 10,
   "id": "6c4fbb3c",
   "metadata": {},
   "outputs": [],
   "source": [
    "def is_symmetric_relation(rel):\n",
    "    for (x, y) in rel:\n",
    "        if not (y, x) in rel:\n",
    "            return False\n",
    "    return True"
   ]
  },
  {
   "cell_type": "markdown",
   "id": "20ad7ad0",
   "metadata": {},
   "source": [
    "`is_transitive_relation(rel)` takes a relation `rel` and returns `True` if it is transitive and `False` otherwise."
   ]
  },
  {
   "cell_type": "code",
   "execution_count": 11,
   "id": "ae2fffb5",
   "metadata": {},
   "outputs": [],
   "source": [
    "def is_transitive_relation(rel):\n",
    "    for (x, y) in rel:\n",
    "        for (w, v) in rel:\n",
    "            # We test that if (w, v) is actually (y, v), then\n",
    "            # (x, v) should be in rel by transitivity.\n",
    "            if y == w and not (x, v) in rel:\n",
    "                return False\n",
    "    return True"
   ]
  },
  {
   "cell_type": "markdown",
   "id": "5cc7b991",
   "metadata": {},
   "source": [
    "`validate_equivalence_relation(rel,m)` takes a relation `rel` and `m`, and returns `True` if it is an equivalence relation and `False` otherwise."
   ]
  },
  {
   "cell_type": "code",
   "execution_count": 12,
   "id": "f12f2db9",
   "metadata": {},
   "outputs": [],
   "source": [
    "def validate_equivalence_relation(rel,m):\n",
    "    if is_symmetric_relation(rel) == False:\n",
    "        raise ValueError('The equivalence relation is not symmetric')\n",
    "    if is_reflexive_relation(rel,m) == False:\n",
    "        raise ValueError('The equivalence relation is not reflexive')\n",
    "    if is_transitive_relation(rel) == False:\n",
    "        raise ValueError('The equivalence relation is not transitive')"
   ]
  },
  {
   "cell_type": "markdown",
   "id": "8f03863e",
   "metadata": {
    "deletable": false,
    "editable": false,
    "nbgrader": {
     "cell_type": "markdown",
     "checksum": "59213bda933edc7e523b5aeb668824a3",
     "grade": false,
     "grade_id": "Q6-task",
     "locked": true,
     "points": 0,
     "schema_version": 3,
     "solution": false,
     "task": true
    }
   },
   "source": [
    "`adjacency_sets` has parameters a binary relation `R` on $\\{0, 1, \\ldots, m\\}$ and the integer `m`, and returns the adjacency set representation of `R`.\n"
   ]
  },
  {
   "cell_type": "code",
   "execution_count": 13,
   "id": "ddbf0d83",
   "metadata": {
    "ExecuteTime": {
     "end_time": "2023-03-30T10:53:27.011805Z",
     "start_time": "2023-03-30T10:53:27.006184Z"
    },
    "nbgrader": {
     "cell_type": "code",
     "checksum": "6729c1aa1a4a3d89fdfc4dab13f01f0f",
     "grade": false,
     "grade_id": "Q6-answer",
     "locked": false,
     "schema_version": 3,
     "solution": true,
     "task": false
    }
   },
   "outputs": [],
   "source": [
    "def adjacency_sets(R, m):\n",
    "    adjacencylist = []\n",
    "    for i in range(m+1):\n",
    "        adj_ith_entry = []\n",
    "        for j in range(len(R)):\n",
    "            if list(R)[j][0] == i:\n",
    "                adj_ith_entry.append(list(R)[j][1])\n",
    "        adjacencylist.append(set(adj_ith_entry))\n",
    "    return adjacencylist"
   ]
  },
  {
   "cell_type": "markdown",
   "id": "6807c43b",
   "metadata": {
    "deletable": false,
    "editable": false,
    "nbgrader": {
     "cell_type": "markdown",
     "checksum": "bbc4e1f780e3c5358d04a10746fc95b0",
     "grade": false,
     "grade_id": "Q7-task",
     "locked": true,
     "points": 0,
     "schema_version": 3,
     "solution": false,
     "task": true
    }
   },
   "source": [
    "`minimal_representatives(R,m)` which takes a binary relation `R` (as a set of tuples) and a positive integer `m`, and returns the list of minimal representatives."
   ]
  },
  {
   "cell_type": "code",
   "execution_count": 14,
   "id": "620cc5ff",
   "metadata": {
    "ExecuteTime": {
     "end_time": "2023-03-30T10:53:30.910247Z",
     "start_time": "2023-03-30T10:53:30.896286Z"
    },
    "nbgrader": {
     "cell_type": "code",
     "checksum": "9aa305a9a75fa061e71e59f305370bc5",
     "grade": false,
     "grade_id": "Q7-answer",
     "locked": false,
     "schema_version": 3,
     "solution": true,
     "task": false
    }
   },
   "outputs": [],
   "source": [
    "def minimal_representatives(R, m):\n",
    "    A = []\n",
    "    for i in range(m+1):\n",
    "        A.append(i)\n",
    "\n",
    "    B = []\n",
    "    \n",
    "    L = adjacency_sets(R,m)\n",
    "\n",
    "    for i in range(m+1):\n",
    "        if i in A:\n",
    "            B.append(i)\n",
    "            for j in range(len(L[i])):\n",
    "                if list(L[i])[j] in A:\n",
    "                    A.remove(list(L[i])[j])\n",
    "    return B"
   ]
  },
  {
   "cell_type": "markdown",
   "id": "2e3875d2",
   "metadata": {
    "deletable": false,
    "editable": false,
    "nbgrader": {
     "cell_type": "markdown",
     "checksum": "7b4607c38f06108cff0125243072b388",
     "grade": false,
     "grade_id": "Q8-task",
     "locked": true,
     "points": 0,
     "schema_version": 3,
     "solution": false,
     "task": true
    }
   },
   "source": [
    "`minimal_rep(R,i)` takes an equivalence relation `R` (as a set of tuples) and a number `i`, and returns the minimal element in the equivalence class of `i`."
   ]
  },
  {
   "cell_type": "code",
   "execution_count": 15,
   "id": "846b7a58",
   "metadata": {
    "ExecuteTime": {
     "end_time": "2023-03-30T10:53:34.703400Z",
     "start_time": "2023-03-30T10:53:34.698060Z"
    },
    "nbgrader": {
     "cell_type": "code",
     "checksum": "ffc6e8029a6c056c15909b7962ca9f2f",
     "grade": false,
     "grade_id": "Q8-answer",
     "locked": false,
     "schema_version": 3,
     "solution": true,
     "task": false
    }
   },
   "outputs": [],
   "source": [
    "def minimal_rep(R, i):\n",
    "    L = adjacency_sets(R,i)\n",
    "    return min(L[i])"
   ]
  },
  {
   "cell_type": "markdown",
   "id": "9f26fb20",
   "metadata": {
    "deletable": false,
    "editable": false,
    "nbgrader": {
     "cell_type": "markdown",
     "checksum": "fd7b95b33714826340b9c2466808bccd",
     "grade": false,
     "grade_id": "cell-3e33909925053653",
     "locked": true,
     "schema_version": 3,
     "solution": false,
     "task": false
    }
   },
   "source": [
    "# Constructing Groups"
   ]
  },
  {
   "cell_type": "markdown",
   "id": "a4cca5ff",
   "metadata": {
    "deletable": false,
    "editable": false,
    "nbgrader": {
     "cell_type": "markdown",
     "checksum": "cc57096d8624502a7b44e9b9732e5455",
     "grade": false,
     "grade_id": "Q9-task",
     "locked": true,
     "points": 0,
     "schema_version": 3,
     "solution": false,
     "task": true
    }
   },
   "source": [
    "`coset_equivalence` takes two parameters `X` and `H` as above and returns the equivalence relation $R_H$ (represented as a set of tuples)."
   ]
  },
  {
   "cell_type": "code",
   "execution_count": 16,
   "id": "b050626d",
   "metadata": {
    "ExecuteTime": {
     "end_time": "2023-03-30T10:53:37.947468Z",
     "start_time": "2023-03-30T10:53:37.938049Z"
    },
    "nbgrader": {
     "cell_type": "code",
     "checksum": "b85e43af66ed89fdec9ce55afd44cba8",
     "grade": false,
     "grade_id": "Q9-answer",
     "locked": false,
     "schema_version": 3,
     "solution": true,
     "task": false
    }
   },
   "outputs": [],
   "source": [
    "def coset_equivalence(X, H):\n",
    "    validate_group(X)\n",
    "    R = []\n",
    "    # ab^-1 can be represented by X[a][get_inverse(X,b)]\n",
    "    # We create a list of all the elements in X = [[row1],[row2],...,[row(n)]]\n",
    "    elements = []\n",
    "    for row in X:\n",
    "        for i in range(len(row)):\n",
    "            if not row[i] in elements:\n",
    "                elements.append(row[i])\n",
    "    #print(elements)\n",
    "    \n",
    "    for i in range(len(elements)):\n",
    "        for j in range(len(elements)):\n",
    "            if X[i][get_inverse(X,j)] in H:\n",
    "                R.append((i,j))\n",
    "    \n",
    "    return set(R)"
   ]
  },
  {
   "cell_type": "markdown",
   "id": "3e8422a5",
   "metadata": {
    "deletable": false,
    "editable": false,
    "nbgrader": {
     "cell_type": "markdown",
     "checksum": "80fbdf1994692cf4d6774cb13e554041",
     "grade": false,
     "grade_id": "Q12-task",
     "locked": true,
     "points": 0,
     "schema_version": 3,
     "solution": false,
     "task": true
    }
   },
   "source": [
    "`coset_rep_group` takes `X` and `H` as above, and returns the binary operation `Y` on $\\left\\{0, 1, \\ldots, \\frac{n - 1}{|H|}\\right\\}$ given by the coset representative construction."
   ]
  },
  {
   "cell_type": "code",
   "execution_count": 17,
   "id": "4f89a08e",
   "metadata": {
    "ExecuteTime": {
     "end_time": "2023-03-30T10:53:51.898100Z",
     "start_time": "2023-03-30T10:53:51.883818Z"
    },
    "nbgrader": {
     "cell_type": "code",
     "checksum": "b85ea9c25949d9f233a9002850745584",
     "grade": false,
     "grade_id": "Q12-answer",
     "locked": false,
     "schema_version": 3,
     "solution": true,
     "task": false
    }
   },
   "outputs": [],
   "source": [
    "def coset_rep_group(X, H):\n",
    "    validate_binary_operation(X)\n",
    "    R_H = coset_equivalence(X,H)\n",
    "    reps = minimal_representatives(R_H,len(X)-1)\n",
    "    \n",
    "    M = []\n",
    "    \n",
    "    for i in range(len(reps)):\n",
    "        a = reps[i]\n",
    "        temp_M = []\n",
    "        for j in range(len(reps)):\n",
    "            b = reps[j]\n",
    "            c = X[a][b]\n",
    "            d = minimal_rep(R_H,c)\n",
    "            temp_M.append(d)\n",
    "        M.append(temp_M)\n",
    "    return M"
   ]
  },
  {
   "cell_type": "markdown",
   "id": "9d4ed5ec",
   "metadata": {},
   "source": [
    "*Testing:*\n",
    "- Given $\\mathbb{Z}/4\\mathbb{Z}$ and the subset $\\{0, 2\\}$, we should get $\\mathbb{Z}/2\\mathbb{Z}$ back.\n",
    "- Given $\\mathbb{Z}/40\\mathbb{Z}$ and the subset $\\{0, 10, 20, 30\\}$, we should get $\\mathbb{Z}/10\\mathbb{Z}$.*"
   ]
  },
  {
   "cell_type": "markdown",
   "id": "8071456a",
   "metadata": {
    "deletable": false,
    "editable": false,
    "nbgrader": {
     "cell_type": "markdown",
     "checksum": "62c2ce3bdac27e538e71fc5fc6683ffa",
     "grade": false,
     "grade_id": "Q10-task",
     "locked": true,
     "points": 0,
     "schema_version": 3,
     "solution": false,
     "task": true
    }
   },
   "source": [
    "`modular_addition(m)` takes one parameter `m` and returns the Cayley table of $\\mathbb{Z}/m\\mathbb{Z}$ under addition."
   ]
  },
  {
   "cell_type": "code",
   "execution_count": 18,
   "id": "f9c24b63",
   "metadata": {
    "ExecuteTime": {
     "end_time": "2023-03-30T10:53:41.614984Z",
     "start_time": "2023-03-30T10:53:41.603806Z"
    },
    "nbgrader": {
     "cell_type": "code",
     "checksum": "b94a49e9c4c6da206e7c5ba77307d2ce",
     "grade": false,
     "grade_id": "Q10-answer",
     "locked": false,
     "schema_version": 3,
     "solution": true,
     "task": false
    }
   },
   "outputs": [
    {
     "data": {
      "text/plain": [
       "[[0, 1, 2, 3], [1, 2, 3, 0], [2, 3, 0, 1], [3, 0, 1, 2]]"
      ]
     },
     "execution_count": 18,
     "metadata": {},
     "output_type": "execute_result"
    }
   ],
   "source": [
    "def modular_addition(m):\n",
    "    cayley = []\n",
    "    for i in range(m):\n",
    "        row = []\n",
    "        for j in range(m):\n",
    "            row.append((i+j)%m)\n",
    "        cayley.append(row)\n",
    "    validate_binary_operation(cayley)\n",
    "    validate_group(cayley)\n",
    "    return cayley\n",
    "modular_addition(4)"
   ]
  },
  {
   "cell_type": "markdown",
   "id": "c2ecc3f9",
   "metadata": {},
   "source": [
    "Example 1"
   ]
  },
  {
   "cell_type": "code",
   "execution_count": 19,
   "id": "9e069747",
   "metadata": {},
   "outputs": [
    {
     "name": "stdout",
     "output_type": "stream",
     "text": [
      "Z_4Z = [[0, 1, 2, 3], [1, 2, 3, 0], [2, 3, 0, 1], [3, 0, 1, 2]]\n",
      "H = {0, 2}\n",
      "G/H = [[0, 1], [1, 0]]\n",
      "Z_2Z = [[0, 1], [1, 0]]\n",
      "True\n"
     ]
    }
   ],
   "source": [
    "Z_4Z = modular_addition(4)\n",
    "H = {0,2}\n",
    "G_quotient_H = coset_rep_group(Z_4Z,H)\n",
    "Z_2Z = modular_addition(2)\n",
    "\n",
    "print(f\"Z_4Z = {Z_4Z}\")\n",
    "print(f\"H = {H}\")\n",
    "print(f\"G/H = {G_quotient_H}\")\n",
    "print(f\"Z_2Z = {Z_2Z}\")\n",
    "print(G_quotient_H == Z_2Z)"
   ]
  },
  {
   "cell_type": "markdown",
   "id": "de5a6201",
   "metadata": {},
   "source": [
    "Example 2"
   ]
  },
  {
   "cell_type": "code",
   "execution_count": 20,
   "id": "574d37c5",
   "metadata": {},
   "outputs": [
    {
     "name": "stdout",
     "output_type": "stream",
     "text": [
      "True\n"
     ]
    }
   ],
   "source": [
    "Z_40Z = modular_addition(40)\n",
    "H = {0,10,20,30}\n",
    "G_quotient_H = coset_rep_group(Z_40Z,H)\n",
    "Z_10Z = modular_addition(10)\n",
    "\n",
    "print(G_quotient_H == Z_10Z)"
   ]
  }
 ],
 "metadata": {
  "kernelspec": {
   "display_name": "base",
   "language": "python",
   "name": "python3"
  },
  "language_info": {
   "codemirror_mode": {
    "name": "ipython",
    "version": 3
   },
   "file_extension": ".py",
   "mimetype": "text/x-python",
   "name": "python",
   "nbconvert_exporter": "python",
   "pygments_lexer": "ipython3",
   "version": "3.11.7"
  },
  "toc": {
   "base_numbering": 1,
   "nav_menu": {},
   "number_sections": false,
   "sideBar": true,
   "skip_h1_title": false,
   "title_cell": "Table of Contents",
   "title_sidebar": "Contents",
   "toc_cell": false,
   "toc_position": {},
   "toc_section_display": true,
   "toc_window_display": false
  },
  "varInspector": {
   "cols": {
    "lenName": 16,
    "lenType": 16,
    "lenVar": 40
   },
   "kernels_config": {
    "python": {
     "delete_cmd_postfix": "",
     "delete_cmd_prefix": "del ",
     "library": "var_list.py",
     "varRefreshCmd": "print(var_dic_list())"
    },
    "r": {
     "delete_cmd_postfix": ") ",
     "delete_cmd_prefix": "rm(",
     "library": "var_list.r",
     "varRefreshCmd": "cat(var_dic_list()) "
    }
   },
   "types_to_exclude": [
    "module",
    "function",
    "builtin_function_or_method",
    "instance",
    "_Feature"
   ],
   "window_display": false
  }
 },
 "nbformat": 4,
 "nbformat_minor": 5
}
